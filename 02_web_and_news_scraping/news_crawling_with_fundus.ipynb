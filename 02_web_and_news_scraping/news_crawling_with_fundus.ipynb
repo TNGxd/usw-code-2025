{
 "cells": [
  {
   "cell_type": "markdown",
   "id": "c0630d74-02de-40fa-833b-97f9bb821a51",
   "metadata": {},
   "source": [
    "# News Crawling\n",
    "\n",
    "News crawling is essential for gathering and analyzing the latest information from various sources in real-time. This exercise explores two approaches to news crawling: (1) reading RSS feeds to collect structured updates from news websites, and (2) leveraging the Fundus library developed by Humboldt University Berlin, which provides tools for advanced web scraping and data extraction."
   ]
  },
  {
   "cell_type": "markdown",
   "id": "91135d00",
   "metadata": {},
   "source": [
    "## Crawl News Website using rss reader\n",
    "\n"
   ]
  },
  {
   "cell_type": "code",
   "execution_count": 2,
   "id": "7a4d88f5",
   "metadata": {},
   "outputs": [
    {
     "name": "stdout",
     "output_type": "stream",
     "text": [
      "Title: Abschied von Papst Franziskus - Zehntausende im Petersdom erwartet\n",
      "Link: https://www.tagesschau.de/ausland/europa/papst-franziskus-trauerfeierlichkeiten-100.html\n",
      "Published: Thu, 24 Apr 2025 08:29:48 +0200\n",
      "Summary: Im Petersdom werden heute wohl erneut Zehntausende Gläubige Papst Franziskus die letzte Ehre erweisen. Im Vatikan laufen die Vorbereitungen für die weiteren Trauerfeierlichkeiten. Ein Termin für das Konklave steht noch nicht fest.\n",
      "--------------------------------------------------------------------------------\n",
      "Title: Mindestens neun Tote bei russischen Luftangriffen auf Kiew\n",
      "Link: https://www.tagesschau.de/ausland/europa/russland-angriffe-kiew-100.html\n",
      "Published: Thu, 24 Apr 2025 08:24:38 +0200\n",
      "Summary: Ungeachtet der Verhandlungen mit den USA greift Russland die Ukraine weiter massiv an. Allein in der Hauptstadt Kiew wurden mindestens neun Menschen getötet. Und auch aus anderen Landesteilen werden Attacken gemeldet.\n",
      "--------------------------------------------------------------------------------\n",
      "Title: Marktbericht: DAX ringt um die 22.000 Punkte\n",
      "Link: https://www.tagesschau.de/wirtschaft/finanzen/marktberichte/marktbericht-dax-dow-zoelle-trump-100.html\n",
      "Published: Thu, 24 Apr 2025 07:38:20 +0200\n",
      "Summary: Die Anleger hoffen heute auf eine Fortsetzung der jüngsten Kurserholung. Die starken Vorgaben der Wall Street dürften sich positiv auswirken, auch die Berichtssaison könnte für Impulse sorgen.\n",
      "--------------------------------------------------------------------------------\n",
      "Title: Zikaron BaSalon: Holocaust-Gedenken im Wohnzimmer der Überlebenden\n",
      "Link: https://www.tagesschau.de/ausland/asien/israel-holocaust-gedenken-104.html\n",
      "Published: Thu, 24 Apr 2025 07:34:38 +0200\n",
      "Summary: Die israelische Initiative Zikaron BaSalon - Erinnerungen im Wohnzimmer - will Zeugnisse von Holocaust-Überlebenden auch 80 Jahre nach Kriegsende lebendig halten. Dabei laden Überlebende zu sich nach Hause ein. Von J. Segador\n",
      "--------------------------------------------------------------------------------\n",
      "Title: Ukraine-Liveblog: ++ NATO-Generalsekretär reist nach Washington ++\n",
      "Link: https://www.tagesschau.de/newsticker/liveblog-ukraine-donnerstag-464.html\n",
      "Published: Thu, 24 Apr 2025 07:59:51 +0200\n",
      "Summary: NATO-Generalsekretär Rutte reist heute zu Gesprächen nach Washington. Bei russischen Luftangriffen auf Kiew sind nach ukrainischen Angaben mindestens neun Menschen getötet worden.\n",
      "--------------------------------------------------------------------------------\n"
     ]
    }
   ],
   "source": [
    "# RSS feed: https://www.tagesschau.de/infoservices/alle-meldungen-100~rss2.xml\n",
    "import feedparser\n",
    "\n",
    "feed = feedparser.parse(\n",
    "    \"https://www.tagesschau.de/infoservices/alle-meldungen-100~rss2.xml\"\n",
    ")\n",
    "\n",
    "for entry in feed.entries[:5]:\n",
    "    print(f\"Title: {entry.title}\")\n",
    "    print(f\"Link: {entry.link}\")\n",
    "    print(f\"Published: {entry.published}\")\n",
    "    print(f\"Summary: {entry.summary}\")\n",
    "    print(\"-\" * 80)"
   ]
  },
  {
   "cell_type": "markdown",
   "id": "f82d9513",
   "metadata": {},
   "source": [
    "## Crawl news websites with fundus\n",
    "\n",
    "Fundus libary: https://github.com/flairNLP/fundus"
   ]
  },
  {
   "cell_type": "code",
   "execution_count": 7,
   "id": "0a08435f",
   "metadata": {},
   "outputs": [
    {
     "name": "stdout",
     "output_type": "stream",
     "text": [
      "Fundus-Article including 3 image(s):\n",
      "- Title: \"Nach Erdbeben der Stärke 6,2: Weitere Nachbeben erschüttern Istanbul\"\n",
      "- Text:  \"Nach dem gestrigen Erdbeben gab es in Istanbul auch am Morgen weitere Nachbeben,\n",
      "          darunter eines mit der Stärke 4,1. Experten warnen vor weiteren [...]\"\n",
      "- URL:    https://www.tagesschau.de/ausland/europa/erdbeben-istanbul-104.html\n",
      "- From:   Tagesschau (2025-04-24 06:31)\n",
      "Fundus-Article including 2 image(s):\n",
      "- Title: \"Abschied von Papst Franziskus - Zehntausende im Petersdom erwartet\"\n",
      "- Text:  \"Im Petersdom werden heute wohl erneut Zehntausende Gläubige Papst Franziskus die\n",
      "          letzte Ehre erweisen. Im Vatikan laufen die Vorbereitungen für [...]\"\n",
      "- URL:    https://www.tagesschau.de/ausland/europa/papst-franziskus-trauerfeierlichkeiten-100.html\n",
      "- From:   Tagesschau (2025-04-24 06:29)\n",
      "Fundus-Article:\n",
      "- Title: \"Mindestens neun Tote bei russischen Luftangriffen auf Kiew\"\n",
      "- Text:  \"Ungeachtet der Verhandlungen mit den USA greift Russland die Ukraine weiter\n",
      "          massiv an. Allein in der Hauptstadt Kiew wurden mindestens neun [...]\"\n",
      "- URL:    https://www.tagesschau.de/ausland/europa/russland-angriffe-kiew-100.html\n",
      "- From:   Tagesschau (2025-04-24 06:24)\n",
      "Fundus-Article:\n",
      "- Title: \"Marktbericht: DAX ringt um die 22.000 Punkte\"\n",
      "- Text:  \"Die Anleger hoffen heute auf eine Fortsetzung der jüngsten Kurserholung. Die\n",
      "          starken Vorgaben der Wall Street dürften sich positiv auswirken, [...]\"\n",
      "- URL:    https://www.tagesschau.de/wirtschaft/finanzen/marktberichte/marktbericht-dax-dow-zoelle-trump-100.html\n",
      "- From:   Tagesschau (2025-04-24 05:38)\n",
      "Fundus-Article:\n",
      "- Title: \"Zikaron BaSalon: Holocaust-Gedenken im Wohnzimmer der Überlebenden\"\n",
      "- Text:  \"Die israelische Initiative Zikaron BaSalon - Erinnerungen im Wohnzimmer - will\n",
      "          Zeugnisse von Holocaust-Überlebenden auch 80 Jahre nach [...]\"\n",
      "- URL:    https://www.tagesschau.de/ausland/asien/israel-holocaust-gedenken-104.html\n",
      "- From:   Tagesschau (2025-04-24 05:34)\n"
     ]
    }
   ],
   "source": [
    "from fundus import PublisherCollection, Crawler, RSSFeed\n",
    "\n",
    "crawler = Crawler(PublisherCollection.de.Tagesschau, restrict_sources_to=[RSSFeed])\n",
    "\n",
    "for article in crawler.crawl(max_articles=5, save_to_file=\"tagesschau_news.json\"):\n",
    "    print(article)"
   ]
  },
  {
   "cell_type": "code",
   "execution_count": null,
   "id": "2c142ef0",
   "metadata": {},
   "outputs": [],
   "source": [
    "# TODO:\n",
    "# - update the crawler to crawl news sources from the us\n",
    "# - Read the docs here (https://github.com/flairNLP/fundus/blob/master/docs/3_the_article_class.md) and following to filter all articles that talk about \"trump\" in the topics or title\n",
    "# - The articles should have a title and body"
   ]
  }
 ],
 "metadata": {
  "kernelspec": {
   "display_name": "venv",
   "language": "python",
   "name": "python3"
  },
  "language_info": {
   "codemirror_mode": {
    "name": "ipython",
    "version": 3
   },
   "file_extension": ".py",
   "mimetype": "text/x-python",
   "name": "python",
   "nbconvert_exporter": "python",
   "pygments_lexer": "ipython3",
   "version": "3.11.2"
  }
 },
 "nbformat": 4,
 "nbformat_minor": 5
}
